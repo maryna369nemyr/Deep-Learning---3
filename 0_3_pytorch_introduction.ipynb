{
 "cells": [
  {
   "cell_type": "markdown",
   "metadata": {},
   "source": [
    "(Optional) PyTorch Introduction\n",
    "================\n",
    " \n",
    "<div class=\"alert alert-info\">\n",
    "    <strong>Note:</strong> This exercise is optional and only serves as an introduction and cheatsheet to the general concepts of PyTorch.\n",
    "</div>\n",
    "\n",
    "PyTorch is a scientific computing package for Python:\n",
    "\n",
    "-  Tensor and Neural Network computations (inparticular deep learning)\n",
    "-  Research oriented (in comparison to e.g. TensorFlow)\n",
    "-  Dynamic computational graph (in comparison to e.g. TensorFlow)\n",
    "-  “NumPy on the GPU”\n",
    "-  Backend and API heavily inspired by the original Torch written in Lua\n",
    "\n",
    "An in-depth tutorial of the concepts described in this notebook can be found [here](https://github.com/jcjohnson/pytorch-examples)."
   ]
  },
  {
   "cell_type": "code",
   "execution_count": 1,
   "metadata": {},
   "outputs": [
    {
     "name": "stdout",
     "output_type": "stream",
     "text": [
      "0.4.0\n"
     ]
    }
   ],
   "source": [
    "%matplotlib inline\n",
    "import numpy as np\n",
    "import torch\n",
    "\n",
    "print(torch.__version__)  # This should print 0.4.0"
   ]
  },
  {
   "cell_type": "markdown",
   "metadata": {},
   "source": [
    "Tensors\n",
    "=====\n",
    "\n",
    "The PyTorch `Tensor` class is very similar to the NumPy `ndarray` class. Their main distinction is the ability of PyTorch Tensors to be used on a GPU which lets them benefit from vastly accelerated and parallelized computations. In order to work with PyTorch it is crucial to understand the basic behavior of its `Tensor` class."
   ]
  },
  {
   "cell_type": "markdown",
   "metadata": {},
   "source": [
    "Let's start with the initialization of a regular `5x3` matrix `Tensor`:"
   ]
  },
  {
   "cell_type": "code",
   "execution_count": 40,
   "metadata": {},
   "outputs": [
    {
     "name": "stdout",
     "output_type": "stream",
     "text": [
      "tensor(1.00000e-31 *\n",
      "       [[-1.1037,  0.0000,  0.0000],\n",
      "        [ 0.0000,  0.0000,  0.0000],\n",
      "        [ 0.0000,     nan, -0.7269],\n",
      "        [ 0.0000,  0.0000,  0.0000],\n",
      "        [ 0.0000,  0.0000,  0.0000]])\n"
     ]
    }
   ],
   "source": [
    "x = torch.Tensor(5, 3)\n",
    "print(x)"
   ]
  },
  {
   "cell_type": "markdown",
   "metadata": {},
   "source": [
    "The same matrix can be initialized with random entries:\n",
    "\n"
   ]
  },
  {
   "cell_type": "code",
   "execution_count": 43,
   "metadata": {},
   "outputs": [
    {
     "name": "stdout",
     "output_type": "stream",
     "text": [
      "tensor([[ 0.1671,  0.1817,  0.9722],\n",
      "        [ 0.7967,  0.1151,  0.2003],\n",
      "        [ 0.3129,  0.4862,  0.7979],\n",
      "        [ 0.4785,  0.2378,  0.1379],\n",
      "        [ 0.9201,  0.6908,  0.1795]])\n"
     ]
    }
   ],
   "source": [
    "x = torch.rand(5, 3)\n",
    "print(x)"
   ]
  },
  {
   "cell_type": "markdown",
   "metadata": {},
   "source": [
    "The size of a `Tensor` can be retrieved with:\n",
    "\n"
   ]
  },
  {
   "cell_type": "code",
   "execution_count": 44,
   "metadata": {},
   "outputs": [
    {
     "name": "stdout",
     "output_type": "stream",
     "text": [
      "torch.Size([5, 3])\n"
     ]
    }
   ],
   "source": [
    "print(x.size())"
   ]
  },
  {
   "cell_type": "markdown",
   "metadata": {},
   "source": [
    "<div class=\"alert alert-info\">\n",
    "    <h3>Note</h3>\n",
    "    <p>In contrast to a static computational graph of for example Tensorflow the dynamic graph of PyTorch allows to retrieve information such as its size at any time during runtime.</p>\n",
    "</div>\n",
    "\n",
    "Tensor Operations\n",
    "--------\n",
    "\n",
    "There are multiple syntaxes for `Tensor` operations. We illustrate the different options on the example of `Tensor` addition.\n",
    "\n",
    "Regular (NumPy) syntax:\n",
    "\n"
   ]
  },
  {
   "cell_type": "code",
   "execution_count": 45,
   "metadata": {},
   "outputs": [
    {
     "name": "stdout",
     "output_type": "stream",
     "text": [
      "tensor([[ 0.6971,  0.4786,  1.5201],\n",
      "        [ 0.9817,  0.8346,  1.1267],\n",
      "        [ 0.8129,  1.1197,  1.7121],\n",
      "        [ 0.7151,  1.1437,  0.6138],\n",
      "        [ 1.5725,  0.8295,  1.0015]])\n"
     ]
    }
   ],
   "source": [
    "y = torch.rand(5, 3)\n",
    "print(x + y)"
   ]
  },
  {
   "cell_type": "markdown",
   "metadata": {},
   "source": [
    "PyTorch syntax:\n",
    "\n"
   ]
  },
  {
   "cell_type": "code",
   "execution_count": 46,
   "metadata": {},
   "outputs": [
    {
     "name": "stdout",
     "output_type": "stream",
     "text": [
      "tensor([[ 0.6971,  0.4786,  1.5201],\n",
      "        [ 0.9817,  0.8346,  1.1267],\n",
      "        [ 0.8129,  1.1197,  1.7121],\n",
      "        [ 0.7151,  1.1437,  0.6138],\n",
      "        [ 1.5725,  0.8295,  1.0015]])\n"
     ]
    }
   ],
   "source": [
    "print(torch.add(x, y))"
   ]
  },
  {
   "cell_type": "markdown",
   "metadata": {},
   "source": [
    "PyTorch syntax with specific output variable:\n",
    "\n"
   ]
  },
  {
   "cell_type": "code",
   "execution_count": 47,
   "metadata": {},
   "outputs": [
    {
     "name": "stdout",
     "output_type": "stream",
     "text": [
      "tensor([[ 0.6971,  0.4786,  1.5201],\n",
      "        [ 0.9817,  0.8346,  1.1267],\n",
      "        [ 0.8129,  1.1197,  1.7121],\n",
      "        [ 0.7151,  1.1437,  0.6138],\n",
      "        [ 1.5725,  0.8295,  1.0015]])\n"
     ]
    }
   ],
   "source": [
    "result = torch.Tensor(5, 3)\n",
    "torch.add(x, y, out=result)\n",
    "print(result)"
   ]
  },
  {
   "cell_type": "markdown",
   "metadata": {},
   "source": [
    "PyTorch syntax for inplace operations:"
   ]
  },
  {
   "cell_type": "code",
   "execution_count": 48,
   "metadata": {},
   "outputs": [
    {
     "name": "stdout",
     "output_type": "stream",
     "text": [
      "tensor([[ 0.6971,  0.4786,  1.5201],\n",
      "        [ 0.9817,  0.8346,  1.1267],\n",
      "        [ 0.8129,  1.1197,  1.7121],\n",
      "        [ 0.7151,  1.1437,  0.6138],\n",
      "        [ 1.5725,  0.8295,  1.0015]])\n"
     ]
    }
   ],
   "source": [
    "# adds x to y\n",
    "y.add_(x)\n",
    "print(y)"
   ]
  },
  {
   "cell_type": "markdown",
   "metadata": {},
   "source": [
    "<div class=\"alert alert-info\">\n",
    "    <h3>Note</h3>\n",
    "    <p>Any operation that mutates a `Tensor` in-place is post-fixed with an ``_``.</p>\n",
    "    <p>For example: ``x.copy_(y)``, ``x.t_()``, will copy  ``y`` to ``x``.</p>\n",
    "</div>\n",
    "\n",
    "`Tensor` indexing works just like standard NumPy indexing. And since recently PyTorch even supports `Tensor` [broadcasting](https://docs.scipy.org/doc/numpy-1.13.0/user/basics.broadcasting.html)!\n",
    "\n"
   ]
  },
  {
   "cell_type": "code",
   "execution_count": 49,
   "metadata": {},
   "outputs": [
    {
     "name": "stdout",
     "output_type": "stream",
     "text": [
      "tensor([ 0.1817,  0.1151,  0.4862,  0.2378,  0.6908])\n"
     ]
    }
   ],
   "source": [
    "print(x[:, 1])"
   ]
  },
  {
   "cell_type": "markdown",
   "metadata": {},
   "source": [
    "NumPy: There and back again\n",
    "---------------------------\n",
    "\n",
    "Converting a PyTorch `Tensor` to a NumPy `ndarray` and vice versa is a very simple. The `Tensor` and the `ndarray` will share the location of the underlying memory, and changing one will also change the other.\n",
    "\n",
    "Converting a `Tensor` to a `ndarray` works by simply calling the `Tensor.numpy()` method:"
   ]
  },
  {
   "cell_type": "code",
   "execution_count": 50,
   "metadata": {},
   "outputs": [
    {
     "name": "stdout",
     "output_type": "stream",
     "text": [
      "tensor([ 1.,  1.,  1.,  1.,  1.])\n",
      "[1. 1. 1. 1. 1.]\n"
     ]
    }
   ],
   "source": [
    "a = torch.ones(5)\n",
    "b = a.numpy()\n",
    "print(a)\n",
    "print(b)"
   ]
  },
  {
   "cell_type": "markdown",
   "metadata": {},
   "source": [
    "Changing the `Tensor` effects the `ndarray` as well:"
   ]
  },
  {
   "cell_type": "code",
   "execution_count": 51,
   "metadata": {},
   "outputs": [
    {
     "name": "stdout",
     "output_type": "stream",
     "text": [
      "tensor([ 2.,  2.,  2.,  2.,  2.])\n",
      "[2. 2. 2. 2. 2.]\n"
     ]
    }
   ],
   "source": [
    "a.add_(1)\n",
    "print(a)\n",
    "print(b)"
   ]
  },
  {
   "cell_type": "markdown",
   "metadata": {},
   "source": [
    "The conversion from a `ndarray` to a `Tensor` is just as simple and holds the same properties:"
   ]
  },
  {
   "cell_type": "code",
   "execution_count": 52,
   "metadata": {},
   "outputs": [
    {
     "name": "stdout",
     "output_type": "stream",
     "text": [
      "[2. 2. 2. 2. 2.]\n",
      "tensor([ 2.,  2.,  2.,  2.,  2.], dtype=torch.float64)\n"
     ]
    }
   ],
   "source": [
    "a = np.ones(5)\n",
    "b = torch.from_numpy(a)\n",
    "np.add(a, 1, out=a)\n",
    "print(a)\n",
    "print(b)"
   ]
  },
  {
   "cell_type": "markdown",
   "metadata": {},
   "source": [
    "Every `Tensor` allocated on the CPU (except the `torch.CharTensor`) support converting to\n",
    "NumPy and back.\n",
    "\n",
    "Tensors on the GPU\n",
    "------------------\n",
    "\n",
    "PyTorch Tensors can be moved onto a GPU using the ``Tensor.to()`` method. Before converting a GPU `Tensor` to NumPy it has to be moved back to the CPU by calling the ``Tensor.to()`` method again.\n",
    "\n"
   ]
  },
  {
   "cell_type": "code",
   "execution_count": 54,
   "metadata": {},
   "outputs": [
    {
     "name": "stdout",
     "output_type": "stream",
     "text": [
      "CUDA not available.\n"
     ]
    }
   ],
   "source": [
    "# first check if cuda is available\n",
    "device = torch.device(\"cuda:0\" if torch.cuda.is_available() else \"cpu\")\n",
    "if device == torch.device(\"cuda:0\"):\n",
    "    x = x.to(device)\n",
    "    y = y.to(device)\n",
    "    z = x + y\n",
    "    \n",
    "    print(z)\n",
    "    print(z.to(device).detach().numpy())\n",
    "else:\n",
    "    print(\"CUDA not available.\")"
   ]
  },
  {
   "cell_type": "markdown",
   "metadata": {},
   "source": [
    "More on PyTorch Tensors\n",
    "-----------------------\n",
    "\n",
    "The documentation of many more `Tensor` operations, including transposing, indexing, slicing, mathematical operations, linear algebra, random numbers can be found [here](http://pytorch.org/docs/torch)."
   ]
  },
  {
   "cell_type": "markdown",
   "metadata": {},
   "source": [
    "\n",
    "Autograd - automatic differentiation\n",
    "===================================\n",
    "\n",
    "Central to all neural networks in PyTorch is the ``autograd`` package. The package provides automatic differentiation for all operations on Tensors. PyTorch is a define-by-run framework, which means that the calculation of gradients ( e.g. during backpropagation) is defined at runtime and can be different at every single iteration.\n",
    "\n",
    "Since pytorch 0.4.0, the Tensor class includes the Variable class, and supports nearly all of its operations. Once a computation graph für Tensor that requires gradients is executed the ``Tensor.backward()`` method can be used to automatically compute all the gradients.\n",
    "\n",
    "If the ``Tensor`` is not a scalar, the ``backward()`` method requires an additional ``grad_output`` argument which matches the shape of the ``Tensor``. ``grad_output`` is supposed to be the gradient w.r.t the given output. For a scalar ``Tensor`` ``grad_output`` is assumed to be `torch.Tensor([1.0])`.\n",
    "\n",
    "The `autograd` package additionally provides a `Function` class which encodes a complete history of computation. Each `Tensor` with the `required_grad` attribute has a ``Tensor.grad_fn`` attribute which references the ``Function`` (e.g. an operation such as addition) that created the respective ``Tensor`` and thereby determines its gradient. For Tensors that were created by the user and not as a result of an operation the ``grad_fn`` attribute is ``None``.\n",
    "\n",
    "The following simple examples will illustrate the basic concepts of the ``autograd`` package."
   ]
  },
  {
   "cell_type": "code",
   "execution_count": 71,
   "metadata": {
    "scrolled": true
   },
   "outputs": [
    {
     "data": {
      "text/plain": [
       "False"
      ]
     },
     "execution_count": 71,
     "metadata": {},
     "output_type": "execute_result"
    }
   ],
   "source": [
    "# In general, tensors don't track gradients\n",
    "x = torch.ones(1)\n",
    "x.requires_grad"
   ]
  },
  {
   "cell_type": "code",
   "execution_count": 62,
   "metadata": {},
   "outputs": [
    {
     "name": "stdout",
     "output_type": "stream",
     "text": [
      "Doesn't work...\n"
     ]
    }
   ],
   "source": [
    "# Thus we can't call the backward function on these tensors\n",
    "try:\n",
    "    x.backwards()\n",
    "except AttributeError:\n",
    "    print(\"Doesn't work...\")"
   ]
  },
  {
   "cell_type": "code",
   "execution_count": 73,
   "metadata": {},
   "outputs": [
    {
     "name": "stdout",
     "output_type": "stream",
     "text": [
      "tensor([[ 1.,  1.],\n",
      "        [ 1.,  1.]])\n"
     ]
    }
   ],
   "source": [
    "# Enable gradient tracking\n",
    "x = torch.ones((2, 2), requires_grad=True)\n",
    "print(x)"
   ]
  },
  {
   "cell_type": "markdown",
   "metadata": {},
   "source": [
    "Apply an operation to the `Tensor`:\n",
    "\n"
   ]
  },
  {
   "cell_type": "code",
   "execution_count": 74,
   "metadata": {},
   "outputs": [
    {
     "name": "stdout",
     "output_type": "stream",
     "text": [
      "tensor([[ 3.,  3.],\n",
      "        [ 3.,  3.]])\n"
     ]
    }
   ],
   "source": [
    "y = x + 2\n",
    "print(y)"
   ]
  },
  {
   "cell_type": "markdown",
   "metadata": {},
   "source": [
    "Since ``y`` was created as a result of an operation it has a ``grad_fn`` attribute (`Function`) unequal to `None`:\n",
    "\n"
   ]
  },
  {
   "cell_type": "code",
   "execution_count": 75,
   "metadata": {},
   "outputs": [
    {
     "name": "stdout",
     "output_type": "stream",
     "text": [
      "<AddBackward0 object at 0x7fe3baf20358>\n"
     ]
    }
   ],
   "source": [
    "print(y.grad_fn)"
   ]
  },
  {
   "cell_type": "markdown",
   "metadata": {},
   "source": [
    "Applying more operations to `y` increases the computational graph:\n",
    "\n"
   ]
  },
  {
   "cell_type": "code",
   "execution_count": 76,
   "metadata": {},
   "outputs": [
    {
     "name": "stdout",
     "output_type": "stream",
     "text": [
      "tensor([[ 27.,  27.],\n",
      "        [ 27.,  27.]])\n",
      "tensor(27.)\n"
     ]
    }
   ],
   "source": [
    "z = y * y * 3\n",
    "out = z.mean()\n",
    "\n",
    "print(z)\n",
    "print(out)"
   ]
  },
  {
   "cell_type": "markdown",
   "metadata": {},
   "source": [
    "Gradients\n",
    "---------\n",
    "The gradient w.r.t the input `x` can now be computed (backpropagated) with ``out.backward()``. Remember for a scalar this is equivalent to doing ``out.backward(torch.Tensor([1.0]))``.\n",
    "\n"
   ]
  },
  {
   "cell_type": "code",
   "execution_count": 77,
   "metadata": {},
   "outputs": [],
   "source": [
    "out.backward()"
   ]
  },
  {
   "cell_type": "markdown",
   "metadata": {},
   "source": [
    "The input `x` was a `2x2` `Tensor` and therefore $\\frac{d(out)}{dx}$ yields a matrix with the same shape:\n",
    "\n"
   ]
  },
  {
   "cell_type": "code",
   "execution_count": 78,
   "metadata": {},
   "outputs": [
    {
     "name": "stdout",
     "output_type": "stream",
     "text": [
      "tensor([[ 4.5000,  4.5000],\n",
      "        [ 4.5000,  4.5000]])\n"
     ]
    }
   ],
   "source": [
    "print(x.grad)"
   ]
  },
  {
   "cell_type": "markdown",
   "metadata": {},
   "source": [
    "For such a small computation graph the solution can easily be verified:\n",
    "\n",
    "The output w.r.t. the input is given as \n",
    "$$\n",
    "\\begin{align}\n",
    "    out =& \\frac{1}{4}\\sum_i z_i \\\\\n",
    "        =& \\frac{1}{4}\\sum_i 3y_i y_i \\\\\n",
    "        =& \\frac{1}{4}\\sum_i 3(x_i+2)^2\n",
    "\\end{align}\n",
    "$$.\n",
    "\n",
    "Therefore the gradient is $\\frac{\\partial out}{\\partial x_i} = \\frac{3}{2}(x_i+2)$, which yields\n",
    "$\\frac{\\partial out}{\\partial x_i}\\bigr\\rvert_{x_i=1} = \\frac{9}{2} = 4.5$ for a particular input $x_i=1$.\n",
    "\n"
   ]
  },
  {
   "cell_type": "markdown",
   "metadata": {},
   "source": [
    "The `autograd` package in combination with the dynamic graph structure allow to do crazy things such as:\n",
    "\n"
   ]
  },
  {
   "cell_type": "code",
   "execution_count": 85,
   "metadata": {},
   "outputs": [
    {
     "name": "stdout",
     "output_type": "stream",
     "text": [
      "tensor([-0.5074,  0.8810,  1.2325])\n",
      "tensor([ -519.6064,   902.0929,  1262.0619])\n"
     ]
    }
   ],
   "source": [
    "x = torch.randn(3, requires_grad=True)\n",
    "print(x)\n",
    "y = x * 2\n",
    "while y.norm() < 1000:\n",
    "    y = y * 2\n",
    "    \n",
    "\n",
    "print(y)"
   ]
  },
  {
   "cell_type": "markdown",
   "metadata": {},
   "source": [
    "\n",
    "Neural Networks\n",
    "===============\n",
    "\n",
    "The `Tensor` class in combination with the `autograd` package build the foundation for constructing Neural Networks (NNs) with PyTorch. To further fascilitate the construction and training of a NN the ``torch.nn`` package, which depends on `autograd` to define NN models and differentiate them, includes additional NN-specifc classes and helper functions.\n",
    "\n",
    "For example the ``nn.Module`` class which works as a boilerplate NN model class and eventually contains all the individual layers and the ``Module.forward(x)`` method that infers the input ``x`` and returns the output of a NN.\n",
    "\n",
    "The following is a grapical illustration of the infamous *LeNet* NN from Yann LeCun. This NN was trained to classify the MNIST dataset of handwritten digit images:\n",
    "\n",
    "It is a simple feed-forward network which takes the input, feeds it through several layers one after the other, and then finally produces the classification output.\n",
    "\n",
    "\n",
    "Define *LeNet* with PyTorch\n",
    "--------------------------\n",
    "\n",
    "The following is an example implementation of the classification network above: \n",
    "\n"
   ]
  },
  {
   "cell_type": "code",
   "execution_count": 29,
   "metadata": {},
   "outputs": [
    {
     "name": "stdout",
     "output_type": "stream",
     "text": [
      "[[[[ 0  1  2]\n",
      "   [ 3  4  5]\n",
      "   [ 6  7  8]]\n",
      "\n",
      "  [[ 9 10 11]\n",
      "   [12 13 14]\n",
      "   [15 16 17]]\n",
      "\n",
      "  [[18 19 20]\n",
      "   [21 22 23]\n",
      "   [24 25 26]]]\n",
      "\n",
      "\n",
      " [[[27 28 29]\n",
      "   [30 31 32]\n",
      "   [33 34 35]]\n",
      "\n",
      "  [[36 37 38]\n",
      "   [39 40 41]\n",
      "   [42 43 44]]\n",
      "\n",
      "  [[45 46 47]\n",
      "   [48 49 50]\n",
      "   [51 52 53]]]\n",
      "\n",
      "\n",
      " [[[54 55 56]\n",
      "   [57 58 59]\n",
      "   [60 61 62]]\n",
      "\n",
      "  [[63 64 65]\n",
      "   [66 67 68]\n",
      "   [69 70 71]]\n",
      "\n",
      "  [[72 73 74]\n",
      "   [75 76 77]\n",
      "   [78 79 80]]]]\n"
     ]
    }
   ],
   "source": [
    "import numpy as np\n",
    "a = np.arange(81).reshape(3,3,3,3)\n",
    "print(a)"
   ]
  },
  {
   "cell_type": "code",
   "execution_count": 44,
   "metadata": {},
   "outputs": [
    {
     "data": {
      "text/plain": [
       "6"
      ]
     },
     "execution_count": 44,
     "metadata": {},
     "output_type": "execute_result"
    }
   ],
   "source": [
    "a[0][0][2][0]"
   ]
  },
  {
   "cell_type": "code",
   "execution_count": 46,
   "metadata": {},
   "outputs": [],
   "source": [
    "b = a.transpose(0,2,3,1).reshape(3*3*3,3)\n"
   ]
  },
  {
   "cell_type": "code",
   "execution_count": 47,
   "metadata": {},
   "outputs": [
    {
     "data": {
      "text/plain": [
       "array([[ 0,  9, 18],\n",
       "       [ 1, 10, 19],\n",
       "       [ 2, 11, 20],\n",
       "       [ 3, 12, 21],\n",
       "       [ 4, 13, 22],\n",
       "       [ 5, 14, 23],\n",
       "       [ 6, 15, 24],\n",
       "       [ 7, 16, 25],\n",
       "       [ 8, 17, 26],\n",
       "       [27, 36, 45],\n",
       "       [28, 37, 46],\n",
       "       [29, 38, 47],\n",
       "       [30, 39, 48],\n",
       "       [31, 40, 49],\n",
       "       [32, 41, 50],\n",
       "       [33, 42, 51],\n",
       "       [34, 43, 52],\n",
       "       [35, 44, 53],\n",
       "       [54, 63, 72],\n",
       "       [55, 64, 73],\n",
       "       [56, 65, 74],\n",
       "       [57, 66, 75],\n",
       "       [58, 67, 76],\n",
       "       [59, 68, 77],\n",
       "       [60, 69, 78],\n",
       "       [61, 70, 79],\n",
       "       [62, 71, 80]])"
      ]
     },
     "execution_count": 47,
     "metadata": {},
     "output_type": "execute_result"
    }
   ],
   "source": [
    "b"
   ]
  },
  {
   "cell_type": "code",
   "execution_count": 1,
   "metadata": {},
   "outputs": [
    {
     "name": "stdout",
     "output_type": "stream",
     "text": [
      "LeNet(\n",
      "  (conv1): Conv2d(1, 6, kernel_size=(5, 5), stride=(1, 1))\n",
      "  (conv2): Conv2d(6, 16, kernel_size=(5, 5), stride=(1, 1))\n",
      "  (fc1): Linear(in_features=400, out_features=120, bias=True)\n",
      "  (fc2): Linear(in_features=120, out_features=84, bias=True)\n",
      "  (fc3): Linear(in_features=84, out_features=10, bias=True)\n",
      ")\n"
     ]
    }
   ],
   "source": [
    "import torch\n",
    "import torch.nn as nn\n",
    "import torch.nn.functional as F\n",
    "\n",
    "torch.manual_seed(7)\n",
    "\n",
    "class LeNet(nn.Module):\n",
    "\n",
    "    def __init__(self):\n",
    "        \"\"\"\n",
    "        Class constructor which preinitializes NN layers with trainable\n",
    "        parameters.\n",
    "        \"\"\"\n",
    "        super(LeNet, self).__init__()\n",
    "        # 1 input image channel, 6 output channels, 5x5 square convolution\n",
    "        # conv kernel\n",
    "        self.conv1 = nn.Conv2d(1, 6, 5)\n",
    "        #self.conv1.weight.data.mul_(0.001)\n",
    "        self.conv2 = nn.Conv2d(6, 16, 5)\n",
    "        # an affine operation: y = Wx + b\n",
    "        self.fc1 = nn.Linear(16 * 5 * 5, 120)\n",
    "        self.fc2 = nn.Linear(120, 84)\n",
    "        self.fc3 = nn.Linear(84, 10)\n",
    "\n",
    "    def forward(self, x):\n",
    "        \"\"\"\n",
    "        Forwards the input x through each of the NN layers and outputs the result.\n",
    "        \"\"\"\n",
    "        # Max pooling over a (2, 2) window\n",
    "        print(\"begin\", x.size())\n",
    "        x= F.relu(self.conv1(x))\n",
    "        #x = F.max_pool2d(F.relu(self.conv1(x)), (2, 2))\n",
    "        print(\"conv1 - relu\", x.size())\n",
    "        x = F.max_pool2d(x, (2, 2))\n",
    "        #print(x)\n",
    "        print(\"conv1 - relu - max_pool2\", x.size())\n",
    "        x =  F.relu(self.conv2(x))\n",
    "        print(\"conv2 - relu\", x.size())\n",
    "        \n",
    "        # If the size is a square you can only specify a single number\n",
    "        #x = F.max_pool2d(F.relu(self.conv2(x)), 2)\n",
    "        x = F.max_pool2d(x, 2)\n",
    "        print(\"conv2 - relu - max_pool2\", x.size())\n",
    "        \n",
    "        #print(x)\n",
    "        # An efficient transition from spatial conv layers to flat 1D fully \n",
    "        # connected layers is achieved by only changing the \"view\" on the\n",
    "        # underlying data and memory structure.\n",
    "        print(x.size(), self.num_flat_features(x))\n",
    "        x = x.view(-1, self.num_flat_features(x))\n",
    "        #print(x)\n",
    "        print(x.size())\n",
    "        x = F.relu(self.fc1(x))\n",
    "        #print(x)\n",
    "        x = F.relu(self.fc2(x))\n",
    "        #print(x)\n",
    "        x = self.fc3(x)\n",
    "        #print(x)\n",
    "        return x\n",
    "\n",
    "    def num_flat_features(self, x):\n",
    "        \"\"\"\n",
    "        Computes the number of features if the spatial input x is transformed\n",
    "        to a 1D flat input.\n",
    "        \"\"\"\n",
    "        print(x.size())\n",
    "        size = x.size()[1:]  # all dimensions except the batch dimension\n",
    "        num_features = 1\n",
    "        for s in size:\n",
    "            num_features *= s\n",
    "        return num_features\n",
    "\n",
    "\n",
    "net = LeNet()\n",
    "print(net)"
   ]
  },
  {
   "cell_type": "code",
   "execution_count": null,
   "metadata": {},
   "outputs": [],
   "source": []
  },
  {
   "cell_type": "code",
   "execution_count": 48,
   "metadata": {},
   "outputs": [
    {
     "name": "stdout",
     "output_type": "stream",
     "text": [
      "torch.Size([6, 1, 5, 5])\n"
     ]
    }
   ],
   "source": [
    "print(net.conv1.weight.size())"
   ]
  },
  {
   "cell_type": "raw",
   "metadata": {},
   "source": [
    "Parameter containing:\n",
    "tensor([[[[ 0.0140, -0.1205,  0.0637,  0.0628, -0.1069],\n",
    "          [-0.0300, -0.1172,  0.0519, -0.0539,  0.1405],\n",
    "          [ 0.1420,  0.0204, -0.0853, -0.1175, -0.0220],\n",
    "          [-0.0563,  0.0882, -0.1708,  0.1880, -0.1569],\n",
    "          [ 0.1532, -0.0347,  0.1029,  0.0779,  0.0084]]],\n",
    "\n",
    "\n",
    "        [[[ 0.0373,  0.1519,  0.0514,  0.1061, -0.1547],\n",
    "          [ 0.1424,  0.0688,  0.0507,  0.0276,  0.0975],\n",
    "          [ 0.1837, -0.0445, -0.1114, -0.0503, -0.1219],\n",
    "          [ 0.0962, -0.0988, -0.1067,  0.1726,  0.1830],\n",
    "          [ 0.0230, -0.0346, -0.0258,  0.0947, -0.1868]]],\n",
    "\n",
    "\n",
    "        [[[-0.1634,  0.1598,  0.1974, -0.0119, -0.1580],\n",
    "          [ 0.0055, -0.0930, -0.0004,  0.0979,  0.0885],\n",
    "          [-0.0235,  0.0220,  0.0544, -0.1568, -0.0678],\n",
    "          [ 0.0078, -0.1141, -0.0873,  0.0672,  0.1151],\n",
    "          [ 0.0028, -0.0778,  0.1095, -0.1096, -0.0469]]],\n",
    "\n",
    "\n",
    "        [[[ 0.1887,  0.0368,  0.0141,  0.0674, -0.0488],\n",
    "          [ 0.1711, -0.1631, -0.0550, -0.0346, -0.0823],\n",
    "          [-0.0495,  0.1240,  0.1097,  0.0111,  0.1742],\n",
    "          [-0.1412, -0.1193,  0.0904, -0.0107, -0.1823],\n",
    "          [-0.1384, -0.1218,  0.1544,  0.0906,  0.1547]]],\n",
    "\n",
    "\n",
    "        [[[-0.1489, -0.1950, -0.1312,  0.0214, -0.0395],\n",
    "          [-0.1260,  0.1456, -0.0645, -0.1157,  0.0924],\n",
    "          [-0.0539,  0.1275,  0.0477,  0.0049,  0.0420],\n",
    "          [-0.1503, -0.1070, -0.0940, -0.1132,  0.0355],\n",
    "          [ 0.0400, -0.0831,  0.1304, -0.1113,  0.0404]]],\n",
    "\n",
    "\n",
    "        [[[-0.0571, -0.1735, -0.1302,  0.0817,  0.0791],\n",
    "          [-0.1237, -0.0624, -0.1870,  0.1075,  0.1729],\n",
    "          [ 0.0654, -0.1237,  0.1055,  0.1660, -0.0409],\n",
    "          [-0.0328,  0.0692,  0.0257, -0.0661, -0.1857],\n",
    "          [-0.1402,  0.0108, -0.0107,  0.1652,  0.0068]]]])"
   ]
  },
  {
   "cell_type": "raw",
   "metadata": {},
   "source": [
    "weight scaling \n",
    "set seed 7\n",
    "\n",
    "Parameter containing:\n",
    "tensor(1.00000e-04 *\n",
    "       [[[[ 0.1397, -1.2048,  0.6368,  0.6276, -1.0690],\n",
    "          [-0.2998, -1.1717,  0.5189, -0.5387,  1.4051],\n",
    "          [ 1.4198,  0.2037, -0.8526, -1.1747, -0.2196],\n",
    "          [-0.5629,  0.8815, -1.7078,  1.8797, -1.5689],\n",
    "          [ 1.5315, -0.3473,  1.0288,  0.7794,  0.0837]]],\n",
    "\n",
    "\n",
    "        [[[ 0.3729,  1.5188,  0.5144,  1.0611, -1.5471],\n",
    "          [ 1.4238,  0.6883,  0.5066,  0.2763,  0.9749],\n",
    "          [ 1.8369, -0.4450, -1.1142, -0.5032, -1.2190],\n",
    "          [ 0.9621, -0.9885, -1.0674,  1.7257,  1.8302],\n",
    "          [ 0.2300, -0.3463, -0.2582,  0.9474, -1.8676]]],\n",
    "\n",
    "\n",
    "        [[[-1.6345,  1.5976,  1.9745, -0.1189, -1.5803],\n",
    "          [ 0.0546, -0.9304, -0.0038,  0.9789,  0.8853],\n",
    "          [-0.2345,  0.2202,  0.5443, -1.5676, -0.6781],\n",
    "          [ 0.0783, -1.1412, -0.8735,  0.6718,  1.1511],\n",
    "          [ 0.0280, -0.7780,  1.0950, -1.0963, -0.4694]]],\n",
    "\n",
    "\n",
    "        [[[ 1.8867,  0.3683,  0.1409,  0.6742, -0.4877],\n",
    "          [ 1.7112, -1.6312, -0.5502, -0.3457, -0.8229],\n",
    "          [-0.4950,  1.2395,  1.0974,  0.1112,  1.7424],\n",
    "          [-1.4121, -1.1926,  0.9036, -0.1075, -1.8226],\n",
    "          [-1.3843, -1.2175,  1.5444,  0.9057,  1.5472]]],\n",
    "\n",
    "\n",
    "        [[[-1.4890, -1.9499, -1.3115,  0.2140, -0.3950],\n",
    "          [-1.2603,  1.4559, -0.6450, -1.1568,  0.9238],\n",
    "          [-0.5389,  1.2750,  0.4766,  0.0493,  0.4199],\n",
    "          [-1.5028, -1.0701, -0.9400, -1.1317,  0.3546],\n",
    "          [ 0.3996, -0.8310,  1.3038, -1.1128,  0.4038]]],\n",
    "\n",
    "\n",
    "        [[[-0.5711, -1.7349, -1.3023,  0.8170,  0.7915],\n",
    "          [-1.2367, -0.6237, -1.8697,  1.0751,  1.7294],\n",
    "          [ 0.6540, -1.2375,  1.0549,  1.6598, -0.4092],\n",
    "          [-0.3278,  0.6922,  0.2573, -0.6610, -1.8567],\n",
    "          [-1.4024,  0.1083, -0.1073,  1.6515,  0.0684]]]])\n"
   ]
  },
  {
   "cell_type": "markdown",
   "metadata": {},
   "source": [
    "Due to the `autograd` package a NN merely requires the definition of the ``Module.forward()`` method. The ``.backward()`` function (which backpropagtes the gradients) is automatically defined. Any `Tensor` operation is allowed in the ``forward`` function.\n",
    "\n",
    "The learnable parameters of a model are returned by ``Module.parameters()``:\n",
    "\n"
   ]
  },
  {
   "cell_type": "code",
   "execution_count": 4,
   "metadata": {},
   "outputs": [
    {
     "name": "stdout",
     "output_type": "stream",
     "text": [
      "10\n",
      "torch.Size([6, 1, 5, 5])\n",
      "torch.Size([6])\n",
      "torch.Size([16, 6, 5, 5])\n",
      "torch.Size([16])\n",
      "torch.Size([120, 400])\n",
      "torch.Size([120])\n",
      "torch.Size([84, 120])\n",
      "torch.Size([84])\n",
      "torch.Size([10, 84])\n"
     ]
    }
   ],
   "source": [
    "params = list(net.parameters())\n",
    "print(len(params))\n",
    "print(params[0].size())  # conv1's .weight\n",
    "print(params[1].size()) \n",
    "print(params[2].size()) \n",
    "print(params[3].size()) \n",
    "print(params[4].size()) \n",
    "print(params[5].size()) \n",
    "print(params[6].size()) \n",
    "print(params[7].size()) \n",
    "print(params[8].size()) \n",
    "\n",
    "\n",
    "#print(params)"
   ]
  },
  {
   "cell_type": "markdown",
   "metadata": {},
   "source": [
    "Check input and output"
   ]
  },
  {
   "cell_type": "code",
   "execution_count": 28,
   "metadata": {},
   "outputs": [
    {
     "name": "stdout",
     "output_type": "stream",
     "text": [
      "begin torch.Size([1, 1, 32, 32])\n",
      "conv1 - relu torch.Size([1, 6, 28, 28])\n",
      "conv1 - relu - max_pool2 torch.Size([1, 6, 14, 14])\n",
      "conv2 - relu torch.Size([1, 16, 10, 10])\n",
      "conv2 - relu - max_pool2 torch.Size([1, 16, 5, 5])\n",
      "torch.Size([1, 16, 5, 5])\n",
      "torch.Size([1, 16, 5, 5]) 400\n",
      "torch.Size([1, 16, 5, 5])\n",
      "torch.Size([1, 400])\n",
      "tensor([[ 0.1583,  0.0690,  0.0635, -0.0333,  0.0208,  0.0295, -0.1378,\n",
      "         -0.0389,  0.0911, -0.0405]])\n"
     ]
    }
   ],
   "source": [
    "x = torch.randn((1, 1, 32, 32))\n",
    "output = net(x)\n",
    "print(output)"
   ]
  },
  {
   "cell_type": "markdown",
   "metadata": {},
   "source": [
    "##### net.num_flat_features(x)"
   ]
  },
  {
   "cell_type": "markdown",
   "metadata": {},
   "source": [
    "Before backpropagating for example a random gradient, the gradient buffers of all parameters should be set to zero:\n",
    "\n"
   ]
  },
  {
   "cell_type": "code",
   "execution_count": 136,
   "metadata": {},
   "outputs": [],
   "source": [
    "net.zero_grad()\n",
    "output.backward(torch.randn(1, 10))"
   ]
  },
  {
   "cell_type": "markdown",
   "metadata": {},
   "source": [
    "<div class=\"alert alert-info\">\n",
    "    <h3>Note</h3>\n",
    "    <p>Calling the ``Tensor.backward()`` method a second time before new inputs are forwarded will through an error. This is due to PyTorch deleting all the intermediary results in order to reduce memory consumption. Calling the ``.backward()`` method with the `retain_graph=True` argument keeps those results.\n",
    "    </p>\n",
    "</div>\n",
    "\n",
    "<div class=\"alert alert-info\">\n",
    "    <h3>Note</h3>\n",
    "    <p>The entire ``torch.nn`` package only supports inputs that are a mini-batch of samples, and not a single sample.\n",
    "\n",
    "    For example, ``nn.Conv2d`` will take in a 4D Tensor of ``nSamples x nChannels x Height x Width``.\n",
    "\n",
    "    If you have a single sample, just use ``x.unsqueeze(0)`` to add a fake batch dimension.\n",
    "    </p>\n",
    "</div>\n",
    "\n",
    "Loss Function\n",
    "-------------\n",
    "A loss function takes the (output, target) pair as inputs, and computes a value that estimates \"how far away\" the output is from the target.\n",
    "\n",
    "There are several different loss functions predefined under the `torch.nn` package. An example of a simple loss is the ``nn.MSELoss`` which computes the mean-squared error between the input and the target value.\n",
    "\n",
    "More examples of predefined losses are documented [here](http://pytorch.org/docs/nn.html#loss-functions).\n",
    "\n",
    "A MSE loss example:"
   ]
  },
  {
   "cell_type": "code",
   "execution_count": 137,
   "metadata": {},
   "outputs": [
    {
     "name": "stdout",
     "output_type": "stream",
     "text": [
      "tensor([[  1.,   2.,   3.,   4.,   5.,   6.,   7.,   8.,   9.,  10.]])\n",
      "MSELoss()\n",
      "tensor(38.4517)\n"
     ]
    }
   ],
   "source": [
    "output = net(x)\n",
    "target = torch.arange(1, 11).unsqueeze(0)  # a dummy target with 10 classes\n",
    "print(target)\n",
    "criterion = nn.MSELoss()\n",
    "print(criterion)\n",
    "\n",
    "loss = criterion(output, target)\n",
    "print(loss)"
   ]
  },
  {
   "cell_type": "markdown",
   "metadata": {},
   "source": [
    "When ``loss.backward()`` is called, the whole graph is differentiated w.r.t. the loss, and all Tensors with gradients in the graph will have their ``Tensor.grad`` attribute accumulated with the gradient."
   ]
  },
  {
   "cell_type": "markdown",
   "metadata": {},
   "source": [
    "Backpropagate the Loss\n",
    "--------------------\n",
    "\n",
    "A curical step for optimizing the network weights is the backpropogation of the loss. The nature of a computational graph makes this as easy as calling ``loss.backward()``. But since the gradients will be accumulated to already existing gradients one has to clear them first."
   ]
  },
  {
   "cell_type": "code",
   "execution_count": 138,
   "metadata": {},
   "outputs": [
    {
     "name": "stdout",
     "output_type": "stream",
     "text": [
      "conv1.bias.grad before backward\n",
      "tensor([ 0.,  0.,  0.,  0.,  0.,  0.])\n",
      "conv1.bias.grad after backward\n",
      "tensor(1.00000e-02 *\n",
      "       [ 4.0760,  5.8347,  1.8398,  6.2326, -0.8733, -5.4431])\n"
     ]
    }
   ],
   "source": [
    "net.zero_grad()     # zeroes the gradient buffers of all parameters\n",
    "\n",
    "print('conv1.bias.grad before backward')\n",
    "print(net.conv1.bias.grad)\n",
    "\n",
    "loss.backward()\n",
    "\n",
    "print('conv1.bias.grad after backward')\n",
    "print(net.conv1.bias.grad)"
   ]
  },
  {
   "cell_type": "markdown",
   "metadata": {},
   "source": [
    "Weights Optimization\n",
    "------------------\n",
    "The simplest update rule used in practice for optimizing the weights of a NN is the Stochastic Gradient Descent (SGD):\n",
    "\n",
    "``weight = weight - learning_rate * gradient``\n",
    "\n",
    "Like any other NN component the optimization step can be implemented with the basic PyTorch classes.\n",
    "\n",
    "For example:"
   ]
  },
  {
   "cell_type": "code",
   "execution_count": 139,
   "metadata": {},
   "outputs": [],
   "source": [
    "def sgd_step(net):\n",
    "    learning_rate = 0.01\n",
    "    for f in net.parameters():\n",
    "        f.data.sub_(f.grad.data * learning_rate)"
   ]
  },
  {
   "cell_type": "markdown",
   "metadata": {},
   "source": [
    "However, the PyTorch framework contains a small optimization package called ``torch.optim``. It includes various predefined update rules such as SGD, Nesterov-SGD, Adam, RMSProp, etc.\n",
    "\n",
    "<div class=\"alert alert-info\">\n",
    "    <h3>Note</h3>\n",
    "    <p>Common optimization options such as the L2-regularization (see ``weight_decay`` argument) are already included in the predefined optimization schemes.</p>\n",
    "</div>\n",
    "\n",
    "Using it is very simple:"
   ]
  },
  {
   "cell_type": "code",
   "execution_count": 141,
   "metadata": {},
   "outputs": [
    {
     "name": "stdout",
     "output_type": "stream",
     "text": [
      "SGD (\n",
      "Parameter Group 0\n",
      "    dampening: 0\n",
      "    lr: 0.01\n",
      "    momentum: 0\n",
      "    nesterov: False\n",
      "    weight_decay: 0.001\n",
      ")\n",
      "tensor([[-0.0232,  0.0689,  0.0891,  0.1467,  0.1607,  0.1010,  0.0694,\n",
      "          0.0934,  0.1056,  0.2350]])\n",
      "tensor(37.1328)\n",
      "tensor(37.1328)\n",
      "first step\n",
      "tensor([[-0.0420,  0.0645,  0.1461,  0.2349,  0.2300,  0.1549,  0.1568,\n",
      "          0.2146,  0.1840,  0.3427]])\n",
      "tensor(36.2499)\n",
      "second step\n",
      "tensor([[-0.0671,  0.0553,  0.2144,  0.3445,  0.3169,  0.2301,  0.2654,\n",
      "          0.3671,  0.2877,  0.4848]])\n",
      "tensor(35.1325)\n"
     ]
    }
   ],
   "source": [
    "import torch.optim as optim\n",
    "\n",
    "# create an optimizer\n",
    "optimizer = optim.SGD(net.parameters(), lr=0.01, weight_decay=1e-3)\n",
    "print(optimizer)\n",
    "# a single step of an example training loop\n",
    "optimizer.zero_grad()   # zero the gradient buffers\n",
    "output = net(x)\n",
    "print(output)\n",
    "loss = criterion(output, target)\n",
    "print(loss)\n",
    "loss.backward()\n",
    "print(loss)\n",
    "print(\"first step\")\n",
    "optimizer.step()# Does the update based on the accumalted gradients  \n",
    "output = net(x)\n",
    "print(output)#\n",
    "loss = criterion(output, target)\n",
    "print(loss)\n",
    "\n",
    "print(\"second step\")\n",
    "optimizer.step()  \n",
    "output = net(x)\n",
    "print(output)\n",
    "loss = criterion(output, target)\n",
    "print(loss)"
   ]
  },
  {
   "cell_type": "markdown",
   "metadata": {},
   "source": [
    "Recap\n",
    "==============\n",
    "\n",
    "  -  ``torch.Tensor`` - A multi-dimensional array with a `requires_grad` option to record the history of operations applied to it.\n",
    "  -  ``nn.Module`` - Neural network module. Convenient way of\n",
    "     encapsulating parameters, with helpers for moving them to GPU,\n",
    "     exporting, loading, etc.\n",
    "  -  ``nn.Parameter`` - A kind of `Tensor`, that is automatically\n",
    "     registered as a parameter when assigned as an attribute to a\n",
    "     ``Module``.\n",
    "  -  ``autograd.Function`` - Implements forward and backward definitions\n",
    "     of an autograd operation. Every ``Tensor`` operation that requires gradients, creates at\n",
    "     least a single ``Function`` node, that connects to functions that\n",
    "     created a ``Tensor`` and encodes its history.\n",
    "\n",
    "<div class=\"alert alert-info\">\n",
    "    <h3>Note</h3>\n",
    "    <p>The `torchvision` package includes many predefined helper funcitons specifally designed for solving computer vision problems.</p>\n",
    "</div>"
   ]
  },
  {
   "cell_type": "code",
   "execution_count": null,
   "metadata": {
    "collapsed": true
   },
   "outputs": [],
   "source": []
  }
 ],
 "metadata": {
  "kernelspec": {
   "display_name": "Python 3",
   "language": "python",
   "name": "python3"
  },
  "language_info": {
   "codemirror_mode": {
    "name": "ipython",
    "version": 3
   },
   "file_extension": ".py",
   "mimetype": "text/x-python",
   "name": "python",
   "nbconvert_exporter": "python",
   "pygments_lexer": "ipython3",
   "version": "3.6.5"
  }
 },
 "nbformat": 4,
 "nbformat_minor": 1
}
